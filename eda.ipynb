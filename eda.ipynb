{
 "cells": [
  {
   "cell_type": "code",
   "execution_count": 1,
   "metadata": {},
   "outputs": [],
   "source": [
    "import pycaret\n",
    "import pandas as pd\n",
    "import seaborn as sns\n",
    "import matplotlib.pyplot as plt\n",
    "\n",
    "from pathlib import Path\n",
    "from uuid import uuid4\n",
    "\n",
    "import numpy as np\n",
    "\n",
    "from random import randint\n",
    "import random"
   ]
  },
  {
   "cell_type": "code",
   "execution_count": 2,
   "metadata": {},
   "outputs": [],
   "source": [
    "def return_list_of_csvs(root_path: Path, child_folder: str) -> list:\n",
    "    \"\"\"Retorna uma lista de arquivos csv de acordo com o caminho.\"\"\"\n",
    "\n",
    "    return list((root_path / child_folder).glob('**/*.csv'))\n",
    "\n",
    "\n",
    "def extract_features(dframe: pd.DataFrame, label: int) -> pd.DataFrame:\n",
    "    \"\"\"Extrai a temperatura do módulo, radiação, a média da tensão e a média da corrente do dataframe.\n",
    "    A label indica se a série é limpa (0) ou suja (1).\n",
    "\n",
    "    Args:\n",
    "        dframe (pd.DataFrame): DataFrame dos dados.\n",
    "        label (int): Rótulo da série temporal.\n",
    "\n",
    "    Returns:\n",
    "        pd.DataFrame: _description_\n",
    "    \"\"\"\n",
    "\n",
    "    temp_modulo = dframe.at[0, 'tempModulo']\n",
    "    irrad = dframe.at[0, 'irrad']\n",
    "    tensao_mean = dframe['tensao'].mean()\n",
    "    corrente_mean = dframe['corrente'].mean()\n",
    "\n",
    "    return (temp_modulo, irrad, tensao_mean, corrente_mean, label)"
   ]
  },
  {
   "cell_type": "markdown",
   "metadata": {},
   "source": [
    "# Leitura dos Dados"
   ]
  },
  {
   "cell_type": "code",
   "execution_count": 3,
   "metadata": {},
   "outputs": [],
   "source": [
    "ensaio_1 = Path('./data/ensaios/Ensaio 1 - Sem sombreamento/')\n",
    "ensaio_2 = Path('./data/ensaios/Ensaio 2 - Fileiras de células sombreadas')\n",
    "ensaio_3 = Path('./data/ensaios/Ensaio 3 - Colunas de células sombreadas/')\n",
    "ensaio_4 = Path('./data/ensaios/Ensaio 4 - Uma célula sombreada por módulo/')\n",
    "ensaio_5 = Path('./data/ensaios/Ensaio 5 - Duas células sombreadas por módulo/')\n",
    "ensaio_6 = Path('./data/ensaios/Ensaio 6 - Sombreamento parcial de duas células por módulo/')"
   ]
  },
  {
   "cell_type": "code",
   "execution_count": 4,
   "metadata": {},
   "outputs": [],
   "source": [
    "ensaio_1_limpa = return_list_of_csvs(ensaio_1, child_folder='Série FV limpa')\n",
    "ensaio_1_suja = return_list_of_csvs(ensaio_1, child_folder='Série FV suja')\n",
    "\n",
    "ensaio_2_limpa = return_list_of_csvs(ensaio_2, child_folder='Série FV limpa')\n",
    "ensaio_2_suja = return_list_of_csvs(ensaio_2, child_folder='Série FV suja')\n",
    "\n",
    "ensaio_3_limpa = return_list_of_csvs(ensaio_3, child_folder='Série FV limpa')\n",
    "ensaio_3_suja = return_list_of_csvs(ensaio_3, child_folder='Série FV suja')\n",
    "\n",
    "ensaio_4_limpa = return_list_of_csvs(ensaio_4, child_folder='Série FV limpa')\n",
    "ensaio_4_suja = return_list_of_csvs(ensaio_4, child_folder='Série FV suja')\n",
    "\n",
    "ensaio_5_limpa = return_list_of_csvs(ensaio_5, child_folder='Série FV limpa')\n",
    "ensaio_5_suja = return_list_of_csvs(ensaio_5, child_folder='Série FV suja')\n",
    "\n",
    "ensaio_6_limpa = return_list_of_csvs(ensaio_6, child_folder='Série FV limpa')\n",
    "ensaio_6_suja = return_list_of_csvs(ensaio_6, child_folder='Série FV suja')\n"
   ]
  },
  {
   "cell_type": "code",
   "execution_count": 5,
   "metadata": {},
   "outputs": [],
   "source": [
    "ensaios = {\n",
    "    'limpa': [ensaio_1_limpa, ensaio_2_limpa, ensaio_3_limpa, ensaio_4_limpa, ensaio_5_limpa, ensaio_6_limpa],\n",
    "    'suja': [ensaio_1_suja, ensaio_2_suja, ensaio_3_suja, ensaio_4_suja, ensaio_5_suja, ensaio_6_suja]\n",
    "}"
   ]
  },
  {
   "cell_type": "code",
   "execution_count": 6,
   "metadata": {},
   "outputs": [],
   "source": [
    "dfs_limpa = [pd.read_csv(file) for ensaio in ensaios.get('limpa') for file in ensaio]\n",
    "dfs_suja = [pd.read_csv(file) for ensaio in ensaios.get('suja') for file in ensaio]"
   ]
  },
  {
   "cell_type": "code",
   "execution_count": 7,
   "metadata": {},
   "outputs": [],
   "source": [
    "def get_irrad_bin(irrad: float) -> int:\n",
    "    \n",
    "    if 400 <= irrad < 500:\n",
    "        return 0\n",
    "    elif 500 <= irrad < 600:\n",
    "        return 1\n",
    "    elif 600 <= irrad < 700:\n",
    "        return 2\n",
    "    elif 700 <= irrad < 800:\n",
    "        return 3\n",
    "    elif 800 <= irrad < 900:\n",
    "        return 4\n",
    "    elif 900 <= irrad < 1000:\n",
    "        return 5\n",
    "    elif 1000 <= irrad < 1100:\n",
    "        return 6\n",
    "    \n",
    "\n",
    "def extract_time_series(dff: pd.DataFrame, target: int, id_: str) -> pd.DataFrame:\n",
    "\n",
    "    irrad = dff.at[0, 'irrad']\n",
    "\n",
    "    dff = dff.drop(0)\n",
    "\n",
    "    dff['target'] = target\n",
    "    dff['id'] = id_\n",
    "    dff['tmstmp'] = np.arange(0, 499, 1)\n",
    "    dff['irrad_bin'] = get_irrad_bin(irrad)\n",
    "    \n",
    "    dff = dff.drop(columns=['tempModulo', 'irrad'])\n",
    "\n",
    "    return dff #, temp, irrad\n",
    "\n",
    "def extract_means(dff, target) -> pd.DataFrame:\n",
    "\n",
    "    temp = dff.at[0, 'tempModulo'] \n",
    "    irrad = dff.at[0, 'irrad']\n",
    "\n",
    "    tensao = dff['tensao'].mean()\n",
    "    corrente = dff['corrente'].mean()\n",
    "\n",
    "    return temp, irrad, tensao, corrente, target"
   ]
  },
  {
   "cell_type": "code",
   "execution_count": 8,
   "metadata": {},
   "outputs": [],
   "source": [
    "dataset_limpa = [extract_time_series(df, target=0, id_=uuid4().hex) for df in dfs_limpa]\n",
    "dataset_suja = [extract_time_series(df, target=1, id_=uuid4().hex) for df in dfs_suja]\n",
    "\n",
    "df = pd.concat(dataset_limpa + dataset_suja)"
   ]
  },
  {
   "cell_type": "code",
   "execution_count": 9,
   "metadata": {},
   "outputs": [],
   "source": [
    "# ds_limpa_means = [extract_means(df, target=0) for df in dfs_limpa]\n",
    "# ds_suja_means = [extract_means(df, target=1) for df in dfs_limpa]\n",
    "\n",
    "# df2 = pd.DataFrame(\n",
    "#     [extract_means(df, 0) for df in dfs_limpa] + [extract_means(df, 1) for df in dfs_limpa],\n",
    "#     columns=['temp', 'irrad', 'tensao', 'corrente', 'label']\n",
    "# )"
   ]
  },
  {
   "cell_type": "markdown",
   "metadata": {},
   "source": [
    "# EDA"
   ]
  },
  {
   "cell_type": "code",
   "execution_count": 10,
   "metadata": {},
   "outputs": [],
   "source": [
    "output_fig_path = Path('./figures/eda')"
   ]
  },
  {
   "cell_type": "code",
   "execution_count": 11,
   "metadata": {},
   "outputs": [],
   "source": [
    "def resample_by_id(dff: pd.DataFrame, range_: int = 10) -> list:\n",
    "\n",
    "    return [random.choice(dff.id.unique()) for _ in range(range_)]"
   ]
  },
  {
   "cell_type": "markdown",
   "metadata": {},
   "source": [
    "## Curva IV"
   ]
  },
  {
   "cell_type": "code",
   "execution_count": 16,
   "metadata": {},
   "outputs": [],
   "source": [
    "from tqdm.notebook import tqdm"
   ]
  },
  {
   "cell_type": "code",
   "execution_count": 17,
   "metadata": {},
   "outputs": [],
   "source": [
    "def pick_color_for_target(target: int):\n",
    "\n",
    "    if target == 0:\n",
    "\n",
    "        return 'green'\n",
    "\n",
    "    return 'red'"
   ]
  },
  {
   "cell_type": "code",
   "execution_count": 19,
   "metadata": {},
   "outputs": [
    {
     "data": {
      "application/vnd.jupyter.widget-view+json": {
       "model_id": "ca3bcf64c4794fc1a82a4eb7c1410cec",
       "version_major": 2,
       "version_minor": 0
      },
      "text/plain": [
       "  0%|          | 0/13 [00:00<?, ?it/s]"
      ]
     },
     "metadata": {},
     "output_type": "display_data"
    },
    {
     "data": {
      "application/vnd.jupyter.widget-view+json": {
       "model_id": "e76f9a19f5ad4eb3bafde6b59061f323",
       "version_major": 2,
       "version_minor": 0
      },
      "text/plain": [
       "  0%|          | 0/33 [00:00<?, ?it/s]"
      ]
     },
     "metadata": {},
     "output_type": "display_data"
    },
    {
     "data": {
      "application/vnd.jupyter.widget-view+json": {
       "model_id": "4e8c7de75d614d33a2c5514e181fcf76",
       "version_major": 2,
       "version_minor": 0
      },
      "text/plain": [
       "  0%|          | 0/32 [00:00<?, ?it/s]"
      ]
     },
     "metadata": {},
     "output_type": "display_data"
    },
    {
     "data": {
      "application/vnd.jupyter.widget-view+json": {
       "model_id": "c30626f7a2104d1f8eb8457e19f63f88",
       "version_major": 2,
       "version_minor": 0
      },
      "text/plain": [
       "  0%|          | 0/64 [00:00<?, ?it/s]"
      ]
     },
     "metadata": {},
     "output_type": "display_data"
    },
    {
     "data": {
      "application/vnd.jupyter.widget-view+json": {
       "model_id": "905bb22189da40e5b10a0ce434b2c751",
       "version_major": 2,
       "version_minor": 0
      },
      "text/plain": [
       "  0%|          | 0/66 [00:00<?, ?it/s]"
      ]
     },
     "metadata": {},
     "output_type": "display_data"
    },
    {
     "data": {
      "application/vnd.jupyter.widget-view+json": {
       "model_id": "27f2551dc46243db965883862f2bd02f",
       "version_major": 2,
       "version_minor": 0
      },
      "text/plain": [
       "  0%|          | 0/59 [00:00<?, ?it/s]"
      ]
     },
     "metadata": {},
     "output_type": "display_data"
    },
    {
     "data": {
      "application/vnd.jupyter.widget-view+json": {
       "model_id": "5a70e4efb5c749ce9471879cf1908c27",
       "version_major": 2,
       "version_minor": 0
      },
      "text/plain": [
       "  0%|          | 0/13 [00:00<?, ?it/s]"
      ]
     },
     "metadata": {},
     "output_type": "display_data"
    }
   ],
   "source": [
    "root_path_curvas_iv = Path('./figures/eda/curvas_iv')\n",
    "root_path_curvas_iv.mkdir(parents=True, exist_ok=True)\n",
    "\n",
    "def plot_curva_iv(dff: pd.DataFrame, output_path: Path, sample_id: str) -> None:\n",
    "\n",
    "    fig = plt.figure(figsize=(8, 6))\n",
    "\n",
    "    sns.lineplot(data=dff, x='tensao', y='corrente')\n",
    "\n",
    "    plt.xlim([-5, 905])\n",
    "    plt.ylim([-1, 12])\n",
    "\n",
    "    plt.tight_layout()\n",
    "    plt.savefig(output_path / f'{sample_id}.jpg')\n",
    "    plt.close()\n",
    "\n",
    "for irrad in sorted(df.irrad_bin.unique()):\n",
    "\n",
    "    fig_path = root_path_curvas_iv / f'{irrad}'\n",
    "    fig_path.mkdir(parents=True, exist_ok=True)\n",
    "\n",
    "    fig = plt.figure(figsize=(8, 6))\n",
    "\n",
    "    for id_ in tqdm(df.query('irrad_bin == @irrad').id.unique()):\n",
    "\n",
    "        dff = df.query('id == @id_').copy()\n",
    "\n",
    "        color = pick_color_for_target(dff.target.unique().item())\n",
    "\n",
    "        if color == 'red': color = 'r'\n",
    "        elif color == 'green': color = 'g'\n",
    "\n",
    "        sns.lineplot(data=dff, x='tensao', y='corrente', color=color)\n",
    "\n",
    "    plt.xlim([-5, 905])\n",
    "    plt.ylim([-1, 12])\n",
    "\n",
    "    plt.tight_layout()\n",
    "    plt.savefig(fig_path / f'{id_}.jpg')\n",
    "    plt.close()\n"
   ]
  },
  {
   "cell_type": "code",
   "execution_count": null,
   "metadata": {},
   "outputs": [],
   "source": [
    "[]\n",
    "df['tensao'].cut()"
   ]
  },
  {
   "cell_type": "markdown",
   "metadata": {},
   "source": [
    "## Séries Temporais Separando radiação por faixas"
   ]
  },
  {
   "cell_type": "code",
   "execution_count": 20,
   "metadata": {},
   "outputs": [],
   "source": [
    "IRRAD_BIN = 7"
   ]
  },
  {
   "cell_type": "code",
   "execution_count": 29,
   "metadata": {},
   "outputs": [],
   "source": [
    "dff = df.query('irrad_bin == @IRRAD_BIN').copy()\n",
    "\n",
    "fig = plt.figure(figsize=(6, 4))\n",
    "\n",
    "for id_ in dff.id.unique():\n",
    "\n",
    "    to_plot = dff.query('id == @id_')\n",
    "\n",
    "    target = to_plot['target'].unique().item()\n",
    "\n",
    "    color=pick_color_for_target(target)\n",
    "    \n",
    "    plt.plot(to_plot['tmstmp'], to_plot['corrente'], color=color, alpha=0.5, linewidth=2.0)\n",
    "\n",
    "plt.tight_layout()\n",
    "# plt.show()\n",
    "complete_output_path = output_fig_path / 'series_temporais' / 'por faixa'\n",
    "\n",
    "complete_output_path.mkdir(exist_ok=True, parents=True)\n",
    "\n",
    "plt.savefig(output_fig_path / 'series_temporais' / f'{IRRAD_BIN}.jpg')\n",
    "plt.close()"
   ]
  },
  {
   "cell_type": "markdown",
   "metadata": {},
   "source": [
    "## Análise das Séries Temporais"
   ]
  },
  {
   "cell_type": "code",
   "execution_count": 15,
   "metadata": {},
   "outputs": [
    {
     "data": {
      "text/plain": [
       "1    0.0\n",
       "1    0.0\n",
       "1    0.0\n",
       "1    0.0\n",
       "1    0.0\n",
       "    ... \n",
       "1    0.0\n",
       "1    0.0\n",
       "1    0.0\n",
       "1    0.0\n",
       "1    0.0\n",
       "Name: tensao, Length: 280, dtype: float64"
      ]
     },
     "execution_count": 15,
     "metadata": {},
     "output_type": "execute_result"
    }
   ],
   "source": [
    "df.at[1, 'tensao']"
   ]
  },
  {
   "cell_type": "code",
   "execution_count": 12,
   "metadata": {},
   "outputs": [
    {
     "data": {
      "image/png": "[encoded data removed]",
      "text/plain": [
       "<Figure size 432x288 with 1 Axes>"
      ]
     },
     "metadata": {
      "needs_background": "light"
     },
     "output_type": "display_data"
    }
   ],
   "source": [
    "fig = plt.figure(figsize=(6, 4))\n",
    "\n",
    "for id_ in resample_by_id(df, range_=120):\n",
    "\n",
    "    to_plot = df.query('id == @id_')\n",
    "\n",
    "    target = to_plot['target'].unique().item()\n",
    "\n",
    "    color=pick_color(target)\n",
    "    plt.plot(to_plot['tmstmp'], to_plot['corrente'], color=color, alpha=0.5, linewidth=2.0)\n",
    "\n",
    "plt.tight_layout()\n",
    "plt.show()\n",
    "# plt.savefig(output_fig_path / 'series_temporais' / 'tensao.jpg')\n",
    "plt.close()"
   ]
  },
  {
   "cell_type": "markdown",
   "metadata": {},
   "source": [
    "## Distribuição de tensão e corrente por label"
   ]
  },
  {
   "cell_type": "code",
   "execution_count": 21,
   "metadata": {},
   "outputs": [],
   "source": [
    "# Sample ids\n",
    "ids = random.sample(df.id.unique().tolist(), 280)\n",
    "\n",
    "df_sampled = df[df['id'].isin(ids)].reset_index(drop=True)"
   ]
  },
  {
   "cell_type": "code",
   "execution_count": null,
   "metadata": {},
   "outputs": [],
   "source": [
    "sns.displot(\n",
    "    data=df_sampled, \n",
    "    x='tensao',\n",
    "    hue='target',\n",
    "    kind='kde',\n",
    ")\n",
    "\n",
    "plt.title('Distribuição da Tensão')\n",
    "plt.tight_layout()\n",
    "# plt.savefig('tensao_sem_outliers.jpg')\n",
    "plt.show()\n",
    "plt.close()"
   ]
  },
  {
   "cell_type": "code",
   "execution_count": null,
   "metadata": {},
   "outputs": [],
   "source": [
    "sns.displot(\n",
    "    data=df_sampled.query('corrente > 1'), \n",
    "    x='corrente',\n",
    "    hue='target',\n",
    "    kind='kde',\n",
    ")\n",
    "\n",
    "plt.title('Distribuição da Corrente - Limitando Outliers')\n",
    "plt.tight_layout()\n",
    "plt.savefig('corrente_sem_outliers.jpg')\n",
    "# plt.show()\n",
    "plt.close()"
   ]
  },
  {
   "cell_type": "code",
   "execution_count": 35,
   "metadata": {},
   "outputs": [
    {
     "data": {
      "text/plain": [
       "<AxesSubplot:xlabel='corrente', ylabel='target'>"
      ]
     },
     "execution_count": 35,
     "metadata": {},
     "output_type": "execute_result"
    },
    {
     "data": {
      "image/png": "[encoded data removed]",
      "text/plain": [
       "<Figure size 640x480 with 1 Axes>"
      ]
     },
     "metadata": {},
     "output_type": "display_data"
    }
   ],
   "source": [
    "sns.boxplot(x=df['corrente'], y=df['target'])"
   ]
  },
  {
   "cell_type": "markdown",
   "metadata": {},
   "source": [
    "# Análise Exploratória"
   ]
  },
  {
   "cell_type": "code",
   "execution_count": null,
   "metadata": {},
   "outputs": [],
   "source": [
    "data.to_parquet('./dataset_teste.parquet')"
   ]
  },
  {
   "cell_type": "code",
   "execution_count": null,
   "metadata": {},
   "outputs": [],
   "source": [
    "data.groupby('label').describe().T"
   ]
  },
  {
   "cell_type": "code",
   "execution_count": null,
   "metadata": {},
   "outputs": [],
   "source": [
    "len(dataset_list)"
   ]
  },
  {
   "cell_type": "code",
   "execution_count": null,
   "metadata": {},
   "outputs": [],
   "source": [
    "dataset_limpa[1]"
   ]
  },
  {
   "cell_type": "code",
   "execution_count": null,
   "metadata": {},
   "outputs": [],
   "source": [
    "dataset_suja[5]"
   ]
  },
  {
   "cell_type": "code",
   "execution_count": null,
   "metadata": {},
   "outputs": [],
   "source": []
  }
 ],
 "metadata": {
  "kernelspec": {
   "display_name": "Python 3.8.13 ('tcc_solar')",
   "language": "python",
   "name": "python3"
  },
  "language_info": {
   "codemirror_mode": {
    "name": "ipython",
    "version": 3
   },
   "file_extension": ".py",
   "mimetype": "text/x-python",
   "name": "python",
   "nbconvert_exporter": "python",
   "pygments_lexer": "ipython3",
   "version": "3.8.13"
  },
  "orig_nbformat": 4,
  "vscode": {
   "interpreter": {
    "hash": "ec371543f68ba7dc524dd7d887c2b4ba4994757f255aed06ac14a43fa8b9d172"
   }
  }
 },
 "nbformat": 4,
 "nbformat_minor": 2
}
